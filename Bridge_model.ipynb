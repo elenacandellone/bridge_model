{
 "cells": [
  {
   "cell_type": "markdown",
   "id": "04dcc57e",
   "metadata": {},
   "source": [
    "# Bridge model\n",
    "Candellone Elena, Ghivarello Sara"
   ]
  },
  {
   "cell_type": "code",
   "execution_count": 4,
   "id": "7530387c",
   "metadata": {},
   "outputs": [],
   "source": [
    "import numpy as np\n",
    "import matplotlib.pyplot as plt"
   ]
  },
  {
   "cell_type": "code",
   "execution_count": 5,
   "id": "9ba5d61e",
   "metadata": {},
   "outputs": [],
   "source": [
    "#####################################################\n",
    "#         INVERSE TRANSFORMATION METHOD             #\n",
    "#   generate a uniform random number u              #\n",
    "#   find the inverse of the CDF F^-1                #\n",
    "#   compute t = F^-1(u) = -ln(1-u)/lambda           #\n",
    "#   therefore, t will be exponentially distributed  #\n",
    "#####################################################\n",
    "\n",
    "\n",
    "#PDF\n",
    "def pdf(x, l):\n",
    "    return l*np.exp(-l*x)\n",
    "#CDF\n",
    "def cdf(x, l):\n",
    "    return 1 - np.exp(-l*x)\n",
    "\n",
    "#INVERSE CDF\n",
    "def icdf(p, l):\n",
    "    return -np.log(1-p)/l\n"
   ]
  },
  {
   "cell_type": "code",
   "execution_count": 6,
   "id": "713e1417",
   "metadata": {},
   "outputs": [],
   "source": [
    "# exact result for the flux\n",
    "def Flux(l,t,tb):\n",
    "    \n",
    "    x = l*t\n",
    "    y = l*tb\n",
    "    \n",
    "    return l*(2-np.exp(-x))/(2-np.exp(-x)*(1+y)+y)"
   ]
  },
  {
   "cell_type": "code",
   "execution_count": 7,
   "id": "acad11b0",
   "metadata": {},
   "outputs": [],
   "source": [
    "#######################################################################################\n",
    "# SIMULATION OF THE SYSTEM                                                            #\n",
    "# parameters                                                                          #\n",
    "# l:     lambdas                                                                      #\n",
    "# times: array of delta_t sampled from the exponential distribution, i.e.             #\n",
    "#        possible time differences between events (particles entering the channel)    #\n",
    "# tau:   time taken by the particle to exit the channel                               #\n",
    "# taub:  time for which the channel remains blocked when two particles enter          #\n",
    "#                                                                                     #\n",
    "# we used an occupation number (n) to describe the situation inside the channel:      #\n",
    "# when it is zero a particle can always enter, while when n = 1 it can still enter,   #\n",
    "# but depending on the sign of delta_t-tau the new occupation number will vary.       #\n",
    "# In the last case, if delta_t > tau_b, the channel is already free and the particle  #\n",
    "# can easily enter, while if delta_t < tau_b it cannot enter and we have to take into #\n",
    "# account that the next particle will arrive after some time and a \"portion\" of taub  #\n",
    "# is already passed. This last \"trick\" is fundamental to count wisely the particles   #\n",
    "# that enter the channel.                                                             #\n",
    "# Finally, the flux is calculated as the number of particles that enter the channel   #\n",
    "# divided by the sum of every delta_t sampled.                                        #\n",
    "#######################################################################################\n",
    "\n",
    "\n",
    "def flux_simulated(l,times,tau,taub):\n",
    "    n = 0                         #occupation number\n",
    "    N = 0                         #number of particles entering the channel\n",
    "    taub_0 = taub\n",
    "    for delta_t in times:\n",
    "        \n",
    "        if n == 0:\n",
    "            N += 1\n",
    "            n = 1\n",
    "\n",
    "        elif n == 1:\n",
    "            if delta_t > tau:\n",
    "                N += 1\n",
    "                n = 1\n",
    "            elif delta_t < tau:\n",
    "                N += 1\n",
    "                n = 2\n",
    "\n",
    "        elif (n == 2 and delta_t > taub_0) :\n",
    "                N += 1\n",
    "                n = 1\n",
    "                taub_0= taub\n",
    "        elif (n ==2 and delta_t < taub_0) :\n",
    "                n = 2\n",
    "                taub_0 = taub_0 - delta_t\n",
    "        \n",
    "        \n",
    "    flux = N / sum(times)\n",
    "    return flux      "
   ]
  },
  {
   "cell_type": "code",
   "execution_count": 10,
   "id": "54d62c23",
   "metadata": {},
   "outputs": [
    {
     "data": {
      "image/png": "[encoded data removed]",
      "text/plain": [
       "<Figure size 432x288 with 1 Axes>"
      ]
     },
     "metadata": {
      "needs_background": "light"
     },
     "output_type": "display_data"
    }
   ],
   "source": [
    "lambdas = np.linspace(0.00001,6,50)\n",
    "tau = 1\n",
    "taub = 12\n",
    "flux_tot = []\n",
    "for l in lambdas:\n",
    "    u = np.random.random(2000)\n",
    "    times = icdf(u,l)\n",
    "    flux_tot.append(flux_simulated(l,times,tau,taub))\n",
    "exact_flux = Flux(lambdas,1,12)\n",
    "plt.title('Flux')\n",
    "plt.xlabel('lambda')\n",
    "plt.ylabel('J')\n",
    "plt.plot(lambdas,exact_flux,'b')\n",
    "plt.scatter(lambdas,flux_tot,c='r')\n",
    "plt.show()"
   ]
  }
 ],
 "metadata": {
  "kernelspec": {
   "display_name": "Python 3",
   "language": "python",
   "name": "python3"
  },
  "language_info": {
   "codemirror_mode": {
    "name": "ipython",
    "version": 3
   },
   "file_extension": ".py",
   "mimetype": "text/x-python",
   "name": "python",
   "nbconvert_exporter": "python",
   "pygments_lexer": "ipython3",
   "version": "3.8.8"
  }
 },
 "nbformat": 4,
 "nbformat_minor": 5
}
